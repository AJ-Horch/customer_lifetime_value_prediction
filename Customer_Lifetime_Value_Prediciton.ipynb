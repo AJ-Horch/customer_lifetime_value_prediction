{
  "nbformat": 4,
  "nbformat_minor": 0,
  "metadata": {
    "colab": {
      "provenance": [],
      "authorship_tag": "ABX9TyNZCnwJQC9iYkqZxll3T16b",
      "include_colab_link": true
    },
    "kernelspec": {
      "name": "python3",
      "display_name": "Python 3"
    },
    "language_info": {
      "name": "python"
    }
  },
  "cells": [
    {
      "cell_type": "markdown",
      "metadata": {
        "id": "view-in-github",
        "colab_type": "text"
      },
      "source": [
        "<a href=\"https://colab.research.google.com/github/AJ-Horch/customer_lifetime_value_prediction/blob/main/Customer_Lifetime_Value_Prediciton.ipynb\" target=\"_parent\"><img src=\"https://colab.research.google.com/assets/colab-badge.svg\" alt=\"Open In Colab\"/></a>"
      ]
    },
    {
      "cell_type": "markdown",
      "source": [
        "# Customer Lifetime Value Prediciton\n",
        "Data: [Online Retail Data from UCI Repo](https://archive.ics.uci.edu/dataset/352/online+retail)\n",
        "\n",
        "CLV is the total net revenue a company can expect from a single customer throughout their relationship\n",
        "- The first objective is to calculate and predict future CLV, whic will help you find out how much each customer will spend\n",
        "- The second objective is to identify profitable customers. The model will tell you who those valuable customers are\n",
        "- The third goal is to take marketing actions based on the analysis from there, you will be able to optiize your marketing budget.\n"
      ],
      "metadata": {
        "id": "tFsDBAKs0EOI"
      }
    },
    {
      "cell_type": "code",
      "execution_count": 1,
      "metadata": {
        "colab": {
          "base_uri": "https://localhost:8080/"
        },
        "id": "kkRbP3onzfMD",
        "outputId": "e687ddae-26e5-41d1-c990-136fa63bd106"
      },
      "outputs": [
        {
          "output_type": "stream",
          "name": "stdout",
          "text": [
            "Collecting pymc_marketing\n",
            "  Downloading pymc_marketing-0.12.1-py3-none-any.whl.metadata (35 kB)\n",
            "Requirement already satisfied: arviz>=0.13.0 in /usr/local/lib/python3.11/dist-packages (from pymc_marketing) (0.21.0)\n",
            "Requirement already satisfied: matplotlib>=3.5.1 in /usr/local/lib/python3.11/dist-packages (from pymc_marketing) (3.10.0)\n",
            "Requirement already satisfied: numpy>=1.17 in /usr/local/lib/python3.11/dist-packages (from pymc_marketing) (2.0.2)\n",
            "Requirement already satisfied: pandas in /usr/local/lib/python3.11/dist-packages (from pymc_marketing) (2.2.2)\n",
            "Collecting preliz>=0.8.0 (from pymc_marketing)\n",
            "  Downloading preliz-0.16.0-py3-none-any.whl.metadata (6.1 kB)\n",
            "Requirement already satisfied: pydantic>=2.1.0 in /usr/local/lib/python3.11/dist-packages (from pymc_marketing) (2.11.2)\n",
            "Requirement already satisfied: pymc>=5.21.1 in /usr/local/lib/python3.11/dist-packages (from pymc_marketing) (5.21.2)\n",
            "Collecting pyprojroot (from pymc_marketing)\n",
            "  Downloading pyprojroot-0.3.0-py3-none-any.whl.metadata (4.8 kB)\n",
            "Requirement already satisfied: scikit-learn>=1.1.1 in /usr/local/lib/python3.11/dist-packages (from pymc_marketing) (1.6.1)\n",
            "Requirement already satisfied: seaborn>=0.12.2 in /usr/local/lib/python3.11/dist-packages (from pymc_marketing) (0.13.2)\n",
            "Requirement already satisfied: xarray-einstats>=0.5.1 in /usr/local/lib/python3.11/dist-packages (from pymc_marketing) (0.8.0)\n",
            "Requirement already satisfied: xarray>=2024.1.0 in /usr/local/lib/python3.11/dist-packages (from pymc_marketing) (2025.1.2)\n",
            "Requirement already satisfied: setuptools>=60.0.0 in /usr/local/lib/python3.11/dist-packages (from arviz>=0.13.0->pymc_marketing) (75.2.0)\n",
            "Requirement already satisfied: scipy>=1.9.0 in /usr/local/lib/python3.11/dist-packages (from arviz>=0.13.0->pymc_marketing) (1.14.1)\n",
            "Requirement already satisfied: packaging in /usr/local/lib/python3.11/dist-packages (from arviz>=0.13.0->pymc_marketing) (24.2)\n",
            "Requirement already satisfied: h5netcdf>=1.0.2 in /usr/local/lib/python3.11/dist-packages (from arviz>=0.13.0->pymc_marketing) (1.6.1)\n",
            "Requirement already satisfied: typing-extensions>=4.1.0 in /usr/local/lib/python3.11/dist-packages (from arviz>=0.13.0->pymc_marketing) (4.13.1)\n",
            "Requirement already satisfied: contourpy>=1.0.1 in /usr/local/lib/python3.11/dist-packages (from matplotlib>=3.5.1->pymc_marketing) (1.3.1)\n",
            "Requirement already satisfied: cycler>=0.10 in /usr/local/lib/python3.11/dist-packages (from matplotlib>=3.5.1->pymc_marketing) (0.12.1)\n",
            "Requirement already satisfied: fonttools>=4.22.0 in /usr/local/lib/python3.11/dist-packages (from matplotlib>=3.5.1->pymc_marketing) (4.57.0)\n",
            "Requirement already satisfied: kiwisolver>=1.3.1 in /usr/local/lib/python3.11/dist-packages (from matplotlib>=3.5.1->pymc_marketing) (1.4.8)\n",
            "Requirement already satisfied: pillow>=8 in /usr/local/lib/python3.11/dist-packages (from matplotlib>=3.5.1->pymc_marketing) (11.1.0)\n",
            "Requirement already satisfied: pyparsing>=2.3.1 in /usr/local/lib/python3.11/dist-packages (from matplotlib>=3.5.1->pymc_marketing) (3.2.3)\n",
            "Requirement already satisfied: python-dateutil>=2.7 in /usr/local/lib/python3.11/dist-packages (from matplotlib>=3.5.1->pymc_marketing) (2.8.2)\n",
            "Requirement already satisfied: pytz>=2020.1 in /usr/local/lib/python3.11/dist-packages (from pandas->pymc_marketing) (2025.2)\n",
            "Requirement already satisfied: tzdata>=2022.7 in /usr/local/lib/python3.11/dist-packages (from pandas->pymc_marketing) (2025.2)\n",
            "Requirement already satisfied: numba>=0.59 in /usr/local/lib/python3.11/dist-packages (from preliz>=0.8.0->pymc_marketing) (0.60.0)\n",
            "Requirement already satisfied: annotated-types>=0.6.0 in /usr/local/lib/python3.11/dist-packages (from pydantic>=2.1.0->pymc_marketing) (0.7.0)\n",
            "Requirement already satisfied: pydantic-core==2.33.1 in /usr/local/lib/python3.11/dist-packages (from pydantic>=2.1.0->pymc_marketing) (2.33.1)\n",
            "Requirement already satisfied: typing-inspection>=0.4.0 in /usr/local/lib/python3.11/dist-packages (from pydantic>=2.1.0->pymc_marketing) (0.4.0)\n",
            "Requirement already satisfied: cachetools>=4.2.1 in /usr/local/lib/python3.11/dist-packages (from pymc>=5.21.1->pymc_marketing) (5.5.2)\n",
            "Requirement already satisfied: cloudpickle in /usr/local/lib/python3.11/dist-packages (from pymc>=5.21.1->pymc_marketing) (3.1.1)\n",
            "Requirement already satisfied: pytensor<2.31,>=2.30.2 in /usr/local/lib/python3.11/dist-packages (from pymc>=5.21.1->pymc_marketing) (2.30.2)\n",
            "Requirement already satisfied: rich>=13.7.1 in /usr/local/lib/python3.11/dist-packages (from pymc>=5.21.1->pymc_marketing) (13.9.4)\n",
            "Requirement already satisfied: threadpoolctl<4.0.0,>=3.1.0 in /usr/local/lib/python3.11/dist-packages (from pymc>=5.21.1->pymc_marketing) (3.6.0)\n",
            "Requirement already satisfied: joblib>=1.2.0 in /usr/local/lib/python3.11/dist-packages (from scikit-learn>=1.1.1->pymc_marketing) (1.4.2)\n",
            "Requirement already satisfied: h5py in /usr/local/lib/python3.11/dist-packages (from h5netcdf>=1.0.2->arviz>=0.13.0->pymc_marketing) (3.13.0)\n",
            "Requirement already satisfied: llvmlite<0.44,>=0.43.0dev0 in /usr/local/lib/python3.11/dist-packages (from numba>=0.59->preliz>=0.8.0->pymc_marketing) (0.43.0)\n",
            "Requirement already satisfied: filelock>=3.15 in /usr/local/lib/python3.11/dist-packages (from pytensor<2.31,>=2.30.2->pymc>=5.21.1->pymc_marketing) (3.18.0)\n",
            "Requirement already satisfied: etuples in /usr/local/lib/python3.11/dist-packages (from pytensor<2.31,>=2.30.2->pymc>=5.21.1->pymc_marketing) (0.3.9)\n",
            "Requirement already satisfied: logical-unification in /usr/local/lib/python3.11/dist-packages (from pytensor<2.31,>=2.30.2->pymc>=5.21.1->pymc_marketing) (0.4.6)\n",
            "Requirement already satisfied: miniKanren in /usr/local/lib/python3.11/dist-packages (from pytensor<2.31,>=2.30.2->pymc>=5.21.1->pymc_marketing) (1.0.3)\n",
            "Requirement already satisfied: cons in /usr/local/lib/python3.11/dist-packages (from pytensor<2.31,>=2.30.2->pymc>=5.21.1->pymc_marketing) (0.4.6)\n",
            "Requirement already satisfied: six>=1.5 in /usr/local/lib/python3.11/dist-packages (from python-dateutil>=2.7->matplotlib>=3.5.1->pymc_marketing) (1.17.0)\n",
            "Requirement already satisfied: markdown-it-py>=2.2.0 in /usr/local/lib/python3.11/dist-packages (from rich>=13.7.1->pymc>=5.21.1->pymc_marketing) (3.0.0)\n",
            "Requirement already satisfied: pygments<3.0.0,>=2.13.0 in /usr/local/lib/python3.11/dist-packages (from rich>=13.7.1->pymc>=5.21.1->pymc_marketing) (2.18.0)\n",
            "Requirement already satisfied: mdurl~=0.1 in /usr/local/lib/python3.11/dist-packages (from markdown-it-py>=2.2.0->rich>=13.7.1->pymc>=5.21.1->pymc_marketing) (0.1.2)\n",
            "Requirement already satisfied: toolz in /usr/local/lib/python3.11/dist-packages (from logical-unification->pytensor<2.31,>=2.30.2->pymc>=5.21.1->pymc_marketing) (0.12.1)\n",
            "Requirement already satisfied: multipledispatch in /usr/local/lib/python3.11/dist-packages (from logical-unification->pytensor<2.31,>=2.30.2->pymc>=5.21.1->pymc_marketing) (1.0.0)\n",
            "Downloading pymc_marketing-0.12.1-py3-none-any.whl (253 kB)\n",
            "\u001b[2K   \u001b[90m━━━━━━━━━━━━━━━━━━━━━━━━━━━━━━━━━━━━━━━━\u001b[0m \u001b[32m253.9/253.9 kB\u001b[0m \u001b[31m6.0 MB/s\u001b[0m eta \u001b[36m0:00:00\u001b[0m\n",
            "\u001b[?25hDownloading preliz-0.16.0-py3-none-any.whl (519 kB)\n",
            "\u001b[2K   \u001b[90m━━━━━━━━━━━━━━━━━━━━━━━━━━━━━━━━━━━━━━━━\u001b[0m \u001b[32m519.1/519.1 kB\u001b[0m \u001b[31m8.4 MB/s\u001b[0m eta \u001b[36m0:00:00\u001b[0m\n",
            "\u001b[?25hDownloading pyprojroot-0.3.0-py3-none-any.whl (7.6 kB)\n",
            "Installing collected packages: pyprojroot, preliz, pymc_marketing\n",
            "Successfully installed preliz-0.16.0 pymc_marketing-0.12.1 pyprojroot-0.3.0\n"
          ]
        }
      ],
      "source": [
        "# Installing the PyMC Marketing library\n",
        "!pip install pymc_marketing"
      ]
    },
    {
      "cell_type": "code",
      "source": [
        "!pip install openpyxl"
      ],
      "metadata": {
        "colab": {
          "base_uri": "https://localhost:8080/"
        },
        "id": "gMc81uzU1Lpz",
        "outputId": "15943ecb-1e52-4a18-e119-02c706c81dab"
      },
      "execution_count": 2,
      "outputs": [
        {
          "output_type": "stream",
          "name": "stdout",
          "text": [
            "Requirement already satisfied: openpyxl in /usr/local/lib/python3.11/dist-packages (3.1.5)\n",
            "Requirement already satisfied: et-xmlfile in /usr/local/lib/python3.11/dist-packages (from openpyxl) (2.0.0)\n"
          ]
        }
      ]
    },
    {
      "cell_type": "code",
      "source": [
        "!pip install arviz"
      ],
      "metadata": {
        "colab": {
          "base_uri": "https://localhost:8080/"
        },
        "id": "kej6a9Q012CP",
        "outputId": "f6e0dcc3-e727-4d26-c485-4b0a3d3addac"
      },
      "execution_count": 3,
      "outputs": [
        {
          "output_type": "stream",
          "name": "stdout",
          "text": [
            "Requirement already satisfied: arviz in /usr/local/lib/python3.11/dist-packages (0.21.0)\n",
            "Requirement already satisfied: setuptools>=60.0.0 in /usr/local/lib/python3.11/dist-packages (from arviz) (75.2.0)\n",
            "Requirement already satisfied: matplotlib>=3.5 in /usr/local/lib/python3.11/dist-packages (from arviz) (3.10.0)\n",
            "Requirement already satisfied: numpy>=1.23.0 in /usr/local/lib/python3.11/dist-packages (from arviz) (2.0.2)\n",
            "Requirement already satisfied: scipy>=1.9.0 in /usr/local/lib/python3.11/dist-packages (from arviz) (1.14.1)\n",
            "Requirement already satisfied: packaging in /usr/local/lib/python3.11/dist-packages (from arviz) (24.2)\n",
            "Requirement already satisfied: pandas>=1.5.0 in /usr/local/lib/python3.11/dist-packages (from arviz) (2.2.2)\n",
            "Requirement already satisfied: xarray>=2022.6.0 in /usr/local/lib/python3.11/dist-packages (from arviz) (2025.1.2)\n",
            "Requirement already satisfied: h5netcdf>=1.0.2 in /usr/local/lib/python3.11/dist-packages (from arviz) (1.6.1)\n",
            "Requirement already satisfied: typing-extensions>=4.1.0 in /usr/local/lib/python3.11/dist-packages (from arviz) (4.13.1)\n",
            "Requirement already satisfied: xarray-einstats>=0.3 in /usr/local/lib/python3.11/dist-packages (from arviz) (0.8.0)\n",
            "Requirement already satisfied: h5py in /usr/local/lib/python3.11/dist-packages (from h5netcdf>=1.0.2->arviz) (3.13.0)\n",
            "Requirement already satisfied: contourpy>=1.0.1 in /usr/local/lib/python3.11/dist-packages (from matplotlib>=3.5->arviz) (1.3.1)\n",
            "Requirement already satisfied: cycler>=0.10 in /usr/local/lib/python3.11/dist-packages (from matplotlib>=3.5->arviz) (0.12.1)\n",
            "Requirement already satisfied: fonttools>=4.22.0 in /usr/local/lib/python3.11/dist-packages (from matplotlib>=3.5->arviz) (4.57.0)\n",
            "Requirement already satisfied: kiwisolver>=1.3.1 in /usr/local/lib/python3.11/dist-packages (from matplotlib>=3.5->arviz) (1.4.8)\n",
            "Requirement already satisfied: pillow>=8 in /usr/local/lib/python3.11/dist-packages (from matplotlib>=3.5->arviz) (11.1.0)\n",
            "Requirement already satisfied: pyparsing>=2.3.1 in /usr/local/lib/python3.11/dist-packages (from matplotlib>=3.5->arviz) (3.2.3)\n",
            "Requirement already satisfied: python-dateutil>=2.7 in /usr/local/lib/python3.11/dist-packages (from matplotlib>=3.5->arviz) (2.8.2)\n",
            "Requirement already satisfied: pytz>=2020.1 in /usr/local/lib/python3.11/dist-packages (from pandas>=1.5.0->arviz) (2025.2)\n",
            "Requirement already satisfied: tzdata>=2022.7 in /usr/local/lib/python3.11/dist-packages (from pandas>=1.5.0->arviz) (2025.2)\n",
            "Requirement already satisfied: six>=1.5 in /usr/local/lib/python3.11/dist-packages (from python-dateutil>=2.7->matplotlib>=3.5->arviz) (1.17.0)\n"
          ]
        }
      ]
    },
    {
      "cell_type": "code",
      "source": [
        "# import required libraries\n",
        "import arviz as az\n",
        "import matplotlib.pyplot as plt\n",
        "import numpy as np\n",
        "import pandas as pd\n",
        "import pymc as pm\n",
        "from arviz.labels import MapLabeller\n",
        "\n",
        "from IPython.display import Image\n",
        "from pymc_marketing import clv"
      ],
      "metadata": {
        "id": "BFuD4vcG1V6z"
      },
      "execution_count": 4,
      "outputs": []
    },
    {
      "cell_type": "code",
      "source": [
        "# setting the style of the plots\n",
        "az.style.use('arviz-darkgrid')\n",
        "\n",
        "%config InlineBackend.figure_format = 'retina' # good looking plots\n"
      ],
      "metadata": {
        "id": "B9od7aP61y29"
      },
      "execution_count": 5,
      "outputs": []
    },
    {
      "cell_type": "code",
      "source": [
        "import requests\n",
        "import zipfile\n",
        "import os\n",
        "\n",
        "# Download the zip file\n",
        "url = \"https://archive.ics.uci.edu/static/public/352/online+retail.zip\"\n",
        "reponse = requests.get(url)\n",
        "filename = 'online_retial.zip'\n",
        "\n",
        "with open(filename, 'wb') as file:\n",
        "  file.write(reponse.content)\n",
        "\n",
        "# unzip the file\n",
        "with zipfile.ZipFile(filename, 'r') as zip_ref:\n",
        "  zip_ref.extractall('online_retail_data')\n",
        "\n",
        "# finding the excel file name\n",
        "for file in os.listdir('online_retail_data'):\n",
        "  if file.endswith(\".xlsx\"):\n",
        "    excel_file = os.path.join(\"online_retail_data\", file)\n",
        "    break\n",
        "\n",
        "# convert from excel to csv\n",
        "data_raw = pd.read_excel(excel_file)\n",
        "\n",
        "data_raw.head()"
      ],
      "metadata": {
        "colab": {
          "base_uri": "https://localhost:8080/",
          "height": 356
        },
        "id": "ql7SC4Bm2UQn",
        "outputId": "bdc37e4b-a1f0-4bbc-b9d2-b17f7c44ce85"
      },
      "execution_count": 8,
      "outputs": [
        {
          "output_type": "error",
          "ename": "BadZipFile",
          "evalue": "File is not a zip file",
          "traceback": [
            "\u001b[0;31m---------------------------------------------------------------------------\u001b[0m",
            "\u001b[0;31mBadZipFile\u001b[0m                                Traceback (most recent call last)",
            "\u001b[0;32m<ipython-input-8-88c85baff6f5>\u001b[0m in \u001b[0;36m<cell line: 0>\u001b[0;34m()\u001b[0m\n\u001b[1;32m     12\u001b[0m \u001b[0;34m\u001b[0m\u001b[0m\n\u001b[1;32m     13\u001b[0m \u001b[0;31m# unzip the file\u001b[0m\u001b[0;34m\u001b[0m\u001b[0;34m\u001b[0m\u001b[0m\n\u001b[0;32m---> 14\u001b[0;31m \u001b[0;32mwith\u001b[0m \u001b[0mzipfile\u001b[0m\u001b[0;34m.\u001b[0m\u001b[0mZipFile\u001b[0m\u001b[0;34m(\u001b[0m\u001b[0mfilename\u001b[0m\u001b[0;34m,\u001b[0m \u001b[0;34m'r'\u001b[0m\u001b[0;34m)\u001b[0m \u001b[0;32mas\u001b[0m \u001b[0mzip_ref\u001b[0m\u001b[0;34m:\u001b[0m\u001b[0;34m\u001b[0m\u001b[0;34m\u001b[0m\u001b[0m\n\u001b[0m\u001b[1;32m     15\u001b[0m   \u001b[0mzip_ref\u001b[0m\u001b[0;34m.\u001b[0m\u001b[0mextractall\u001b[0m\u001b[0;34m(\u001b[0m\u001b[0;34m'online_retail_data'\u001b[0m\u001b[0;34m)\u001b[0m\u001b[0;34m\u001b[0m\u001b[0;34m\u001b[0m\u001b[0m\n\u001b[1;32m     16\u001b[0m \u001b[0;34m\u001b[0m\u001b[0m\n",
            "\u001b[0;32m/usr/lib/python3.11/zipfile.py\u001b[0m in \u001b[0;36m__init__\u001b[0;34m(self, file, mode, compression, allowZip64, compresslevel, strict_timestamps, metadata_encoding)\u001b[0m\n\u001b[1;32m   1311\u001b[0m         \u001b[0;32mtry\u001b[0m\u001b[0;34m:\u001b[0m\u001b[0;34m\u001b[0m\u001b[0;34m\u001b[0m\u001b[0m\n\u001b[1;32m   1312\u001b[0m             \u001b[0;32mif\u001b[0m \u001b[0mmode\u001b[0m \u001b[0;34m==\u001b[0m \u001b[0;34m'r'\u001b[0m\u001b[0;34m:\u001b[0m\u001b[0;34m\u001b[0m\u001b[0;34m\u001b[0m\u001b[0m\n\u001b[0;32m-> 1313\u001b[0;31m                 \u001b[0mself\u001b[0m\u001b[0;34m.\u001b[0m\u001b[0m_RealGetContents\u001b[0m\u001b[0;34m(\u001b[0m\u001b[0;34m)\u001b[0m\u001b[0;34m\u001b[0m\u001b[0;34m\u001b[0m\u001b[0m\n\u001b[0m\u001b[1;32m   1314\u001b[0m             \u001b[0;32melif\u001b[0m \u001b[0mmode\u001b[0m \u001b[0;32min\u001b[0m \u001b[0;34m(\u001b[0m\u001b[0;34m'w'\u001b[0m\u001b[0;34m,\u001b[0m \u001b[0;34m'x'\u001b[0m\u001b[0;34m)\u001b[0m\u001b[0;34m:\u001b[0m\u001b[0;34m\u001b[0m\u001b[0;34m\u001b[0m\u001b[0m\n\u001b[1;32m   1315\u001b[0m                 \u001b[0;31m# set the modified flag so central directory gets written\u001b[0m\u001b[0;34m\u001b[0m\u001b[0;34m\u001b[0m\u001b[0m\n",
            "\u001b[0;32m/usr/lib/python3.11/zipfile.py\u001b[0m in \u001b[0;36m_RealGetContents\u001b[0;34m(self)\u001b[0m\n\u001b[1;32m   1378\u001b[0m             \u001b[0;32mraise\u001b[0m \u001b[0mBadZipFile\u001b[0m\u001b[0;34m(\u001b[0m\u001b[0;34m\"File is not a zip file\"\u001b[0m\u001b[0;34m)\u001b[0m\u001b[0;34m\u001b[0m\u001b[0;34m\u001b[0m\u001b[0m\n\u001b[1;32m   1379\u001b[0m         \u001b[0;32mif\u001b[0m \u001b[0;32mnot\u001b[0m \u001b[0mendrec\u001b[0m\u001b[0;34m:\u001b[0m\u001b[0;34m\u001b[0m\u001b[0;34m\u001b[0m\u001b[0m\n\u001b[0;32m-> 1380\u001b[0;31m             \u001b[0;32mraise\u001b[0m \u001b[0mBadZipFile\u001b[0m\u001b[0;34m(\u001b[0m\u001b[0;34m\"File is not a zip file\"\u001b[0m\u001b[0;34m)\u001b[0m\u001b[0;34m\u001b[0m\u001b[0;34m\u001b[0m\u001b[0m\n\u001b[0m\u001b[1;32m   1381\u001b[0m         \u001b[0;32mif\u001b[0m \u001b[0mself\u001b[0m\u001b[0;34m.\u001b[0m\u001b[0mdebug\u001b[0m \u001b[0;34m>\u001b[0m \u001b[0;36m1\u001b[0m\u001b[0;34m:\u001b[0m\u001b[0;34m\u001b[0m\u001b[0;34m\u001b[0m\u001b[0m\n\u001b[1;32m   1382\u001b[0m             \u001b[0mprint\u001b[0m\u001b[0;34m(\u001b[0m\u001b[0mendrec\u001b[0m\u001b[0;34m)\u001b[0m\u001b[0;34m\u001b[0m\u001b[0;34m\u001b[0m\u001b[0m\n",
            "\u001b[0;31mBadZipFile\u001b[0m: File is not a zip file"
          ]
        }
      ]
    },
    {
      "cell_type": "code",
      "source": [
        "data_raw.info()"
      ],
      "metadata": {
        "id": "0L30Q7I837dd"
      },
      "execution_count": null,
      "outputs": []
    },
    {
      "cell_type": "code",
      "source": [
        "# If the InvoiceNo starts with 'c' it indicates a cancellation\n",
        "cancelled_orders = data_raw[data_raw['InvoiceNo'].astype(str).str.startswith(\"C\")]\n",
        "\n",
        "# Create a temporary DF with the columns I want to match on. Also negate the 'Quantity col\n",
        "cancelled_orders['Quantity'] = -cancelled_orders['Quantity']\n",
        "\n",
        "# Merge the orginal DF with the temp on the columns I want to match\n",
        "merged_data = pd.merge(data_raw, cancelled_orders[['CustomerID', 'StockCode', 'Quantity',\n",
        "                                                   'UnitPrice']],\n",
        "                       on=['CustomerID', 'StockCode', 'Quantity', 'UnitPrice'],\n",
        "                       how='left', indicator=True)\n",
        "\n",
        "# Filter out rows where the merge found a match, and also filter out the orginal return orders\n",
        "data_raw = merged_data[(merged_data['_merge'] == 'left_only') & (~merged_data['InvoiceNo'].astype(str).str.startswith(\"C\"))]\n",
        "\n",
        "# Drop the indicator column\n",
        "data_raw = data_raw.drop(columns=['_merge'])"
      ],
      "metadata": {
        "id": "v4C9YHIQ4biY"
      },
      "execution_count": null,
      "outputs": []
    },
    {
      "cell_type": "code",
      "source": [
        "data_raw.head()"
      ],
      "metadata": {
        "id": "3M3OKqhw65Dl"
      },
      "execution_count": null,
      "outputs": []
    },
    {
      "cell_type": "code",
      "source": [
        "# Selecting relevant features and calculating total sales\n",
        "features = ['CustomerID', 'InvoiceNo', 'InvoiceDate', 'Quantity', 'UnitPrice', 'Country']\n",
        "data = data_raw[features]\n",
        "data['TotalSales'] = data['Quantity'].multiply(data['UnitPrice'])\n",
        "\n",
        "# Removing transactions with missing customer IDs - they dont contribute to individual customer behaviour\n",
        "data = data[data['CustomerID'].notna()]\n",
        "data['CustomerID'] = data['CustomerID'].astype(int).astype(str)\n",
        "print(data.shape)\n",
        "data.head()"
      ],
      "metadata": {
        "id": "VusjRWLl7CnP"
      },
      "execution_count": null,
      "outputs": []
    },
    {
      "cell_type": "code",
      "source": [
        "# Check for any missing values\n",
        "pd.DataFrame(zip(data.isnull().sum(), data.isnull().sum()/len(data)), columns=['Count', 'Proportion'], index=data.columns)"
      ],
      "metadata": {
        "id": "SdGD7fJT7XC4"
      },
      "execution_count": null,
      "outputs": []
    },
    {
      "cell_type": "code",
      "source": [
        "# Summarize the dataset's content to understand its scope\n",
        "maxdate = data['InvoiceDate'].dt.date.max()\n",
        "mindate = data['InvoiceDate'].dt.date.min()\n",
        "unique_cust = data['CustomerID'].nunique()\n",
        "tot_quantity = data['Quantity'].sum()\n",
        "tot_sales = data['TotalSales'].sum()\n",
        "\n",
        "print(f\"The time range of transactions is: {mindate} to {maxdate}\")\n",
        "print(f\"Total number of unique customers: {unique_cust}\")\n",
        "print(f\"Total quantity sold: {tot_quantity}\")\n",
        "print(f\"Total sales for the period: {tot_sales}\")"
      ],
      "metadata": {
        "id": "INEqkcns4-7G"
      },
      "execution_count": null,
      "outputs": []
    },
    {
      "cell_type": "code",
      "source": [
        "# Prep a summary from transaction data, transforming individua transaction data into data at the customer level\n",
        "\n",
        "data_summary_rfm = clv.utils.clv_summary(data, 'CustomerID', 'InvoiceDate', 'TotalSales')\n",
        "data_summary_rfm = data_summary_rfm.rename(columns={'CustomerID': 'customer_id'})\n",
        "data_summary_rfm.index = data_summary_rfm['customer_id']\n",
        "data_summary_rfm"
      ],
      "metadata": {
        "id": "FFwm1bJu55dZ"
      },
      "execution_count": null,
      "outputs": []
    },
    {
      "cell_type": "code",
      "source": [
        "data_summary_rfm = data_summary_rfm[data_summary_rfm['monetary_value'] > 0]"
      ],
      "metadata": {
        "id": "OIUJJ2PO6tji"
      },
      "execution_count": null,
      "outputs": []
    },
    {
      "cell_type": "code",
      "source": [
        "# Plotting the frequency dist of customers\n",
        "plt.figure(figsize=(10, 6))\n",
        "plt.hist(data_summary_rfm['frequency'], bins=20, range=[0, 30], edgecolor='k', alpha=0.7)\n",
        "plt.title('Frequency Distribution')\n",
        "plt.xlabel('Frequency')\n",
        "plt.ylabel('Number of Customers')\n",
        "plt.grid(axis='y', alpha=0.6)\n",
        "plt.show\n",
        "\n",
        "one_time = round(sum(data_summary_rfm['frequency'] == 1) / float(len(data_summary_rfm)) * 100, 2)\n",
        "print(f\"Percentage of customers who purchased only once: {one_time}%\")"
      ],
      "metadata": {
        "id": "VJjg2WFO6-l9"
      },
      "execution_count": null,
      "outputs": []
    },
    {
      "cell_type": "code",
      "source": [
        "# Calculating Days between Purchases\n",
        "\n",
        "# Select distinct CustomerID and InvoiceData\n",
        "data['InvoiceDate'] = pd.to_datetime(data['InvoiceDate'])\n",
        "unique_purchases = data[['CustomerID', 'InvoiceDate']].drop_duplicates()\n",
        "\n",
        "# Sorting values to esure the calculation of the difference correctly\n",
        "unique_purchases['NextInvoiceDate'] = unique_purchases.groupby('CustomerID')['InvoiceDate'].shift(-1)\n",
        "unique_purchases['DaysBetween'] = (unique_purchases['NextInvoiceDate'] - unique_purchases['InvoiceDate']).dt.days\n",
        "\n",
        "# Calculate average days\n",
        "customer_avg_days = unique_purchases.groupby('CustomerID')['DaysBetween'].mean().dropna()\n",
        "\n",
        "# Plotting the histogram\n",
        "plt.figure(figsize=(10,6))\n",
        "plt.hist(customer_avg_days, bins=25, edgecolor='k', alpha=0.7)\n",
        "plt.title('Distribution of average days between purchases per customer')\n",
        "plt.xlabel('Average number of days between purchases')\n",
        "plt.ylabel('number of customers')\n",
        "plt.grid(axis='y', alpha=0.6)\n",
        "plt.show()"
      ],
      "metadata": {
        "id": "IVVVqDOe76wq"
      },
      "execution_count": null,
      "outputs": []
    },
    {
      "cell_type": "code",
      "source": [
        "data_summary_rfm"
      ],
      "metadata": {
        "id": "oSvuCsf9EfaT"
      },
      "execution_count": null,
      "outputs": []
    },
    {
      "cell_type": "code",
      "source": [
        "# Initializing the BG/NBD model\n",
        "bgm = clv.BetaGeoModel(\n",
        "    data = data_summary_rfm,\n",
        ")\n",
        "bgm.build_model()\n",
        "bgm"
      ],
      "metadata": {
        "id": "o0fMxwJKxrOE"
      },
      "execution_count": null,
      "outputs": []
    }
  ]
}